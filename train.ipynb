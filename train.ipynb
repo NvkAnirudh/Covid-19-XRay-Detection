{
 "cells": [
  {
   "cell_type": "code",
   "execution_count": 1,
   "metadata": {},
   "outputs": [],
   "source": [
    "import numpy as np\n",
    "import pandas as pd\n",
    "import matplotlib.pyplot as plt\n",
    "import os\n",
    "import cv2\n",
    "from tensorflow.keras.applications import VGG16\n",
    "from tensorflow.keras.layers import Input\n",
    "from tensorflow.keras.layers import AveragePooling2D\n",
    "from tensorflow.keras.layers import Dense\n",
    "from tensorflow.keras.layers import Flatten\n",
    "from tensorflow.keras.layers import Dropout\n",
    "from tensorflow.keras.models import Model\n",
    "from tensorflow.keras.optimizers import Adam\n",
    "from tensorflow.keras.preprocessing.image import ImageDataGenerator\n",
    "from tensorflow.keras.utils import to_categorical\n",
    "from sklearn.model_selection import train_test_split\n",
    "from sklearn.preprocessing import LabelBinarizer\n",
    "from sklearn.metrics import classification_report\n",
    "from sklearn.metrics import confusion_matrix\n",
    "from imutils import paths"
   ]
  },
  {
   "cell_type": "code",
   "execution_count": 2,
   "metadata": {},
   "outputs": [],
   "source": [
    "dataset = \".\\dataset\"\n",
    "\n",
    "# Learning rate\n",
    "lr = 0.0001\n",
    "epochs = 25\n",
    "batch_size = 8"
   ]
  },
  {
   "cell_type": "code",
   "execution_count": 3,
   "metadata": {},
   "outputs": [],
   "source": [
    "images = list(paths.list_images(dataset))\n",
    "data = []\n",
    "labels = []\n",
    "for imagePath in images:\n",
    "    label = imagePath.split(os.path.sep)[2]\n",
    "    \n",
    "    image = cv2.imread(imagePath)\n",
    "    image = cv2.cvtColor(image, cv2.COLOR_BGR2RGB)\n",
    "    image = cv2.resize(image, (224,224))\n",
    "    \n",
    "    data.append(image)\n",
    "    labels.append(label)\n",
    "    \n",
    "# Converting data and labels lists to numpy arrays\n",
    "# Scaling the pixel intensities to [0,1] of the images\n",
    "data = np.array(data) / 255.0\n",
    "labels = np.array(labels)"
   ]
  },
  {
   "cell_type": "code",
   "execution_count": 4,
   "metadata": {},
   "outputs": [],
   "source": [
    "# One-hot encoding of the labels\n",
    "lb = LabelBinarizer()\n",
    "labels = lb.fit_transform(labels)\n",
    "labels = to_categorical(labels)"
   ]
  },
  {
   "cell_type": "code",
   "execution_count": 5,
   "metadata": {},
   "outputs": [],
   "source": [
    "# Splitting the data into training and testing with 80% of data for the former\n",
    "train_X, test_X, train_Y, test_Y = train_test_split(data, labels, test_size=0.2, stratify=labels, random_state=42)"
   ]
  },
  {
   "cell_type": "code",
   "execution_count": 6,
   "metadata": {},
   "outputs": [],
   "source": [
    "# Data Augmentation for better generalization\n",
    "train_aug = ImageDataGenerator(rotation_range=15, fill_mode=\"nearest\")"
   ]
  },
  {
   "cell_type": "code",
   "execution_count": 7,
   "metadata": {},
   "outputs": [],
   "source": [
    "# Loading the VGG16 model excluding its FC layer head\n",
    "vggmodel = VGG16(weights=\"imagenet\", include_top=False, input_tensor=Input(shape=(224,224,3)))"
   ]
  },
  {
   "cell_type": "code",
   "execution_count": 8,
   "metadata": {},
   "outputs": [],
   "source": [
    "# Constructing a head of the model to place it on top of the model\n",
    "head = vggmodel.output\n",
    "head = AveragePooling2D(pool_size=(4,4))(head)\n",
    "head = Flatten(name=\"flatten\")(head)\n",
    "head = Dense(64, activation=\"relu\")(head)\n",
    "head = Dropout(0.5)(head)\n",
    "head = Dense(2, activation=\"softmax\")(head)\n",
    "\n",
    "# Adding our constructed head to the vgg model\n",
    "model = Model(inputs=vggmodel.input, outputs=head)\n",
    "\n",
    "# Freeze all the layers in vgg model other than head\n",
    "for layer in vggmodel.layers:\n",
    "    layer.trainable = False"
   ]
  },
  {
   "cell_type": "code",
   "execution_count": 9,
   "metadata": {},
   "outputs": [
    {
     "name": "stderr",
     "output_type": "stream",
     "text": [
      "C:\\Users\\nvkanirudh\\anaconda3\\lib\\site-packages\\keras\\optimizer_v2\\adam.py:105: UserWarning: The `lr` argument is deprecated, use `learning_rate` instead.\n",
      "  super(Adam, self).__init__(name, **kwargs)\n",
      "<ipython-input-9-fcbd986c7fdc>:5: UserWarning: `Model.fit_generator` is deprecated and will be removed in a future version. Please use `Model.fit`, which supports generators.\n",
      "  history = model.fit_generator(\n"
     ]
    },
    {
     "name": "stdout",
     "output_type": "stream",
     "text": [
      "Epoch 1/25\n",
      "5/5 [==============================] - 49s 8s/step - loss: 0.8023 - accuracy: 0.4750 - val_loss: 0.7070 - val_accuracy: 0.5000\n",
      "Epoch 2/25\n",
      "5/5 [==============================] - 4s 800ms/step - loss: 0.7830 - accuracy: 0.4750 - val_loss: 0.7011 - val_accuracy: 0.5000\n",
      "Epoch 3/25\n",
      "5/5 [==============================] - 4s 797ms/step - loss: 0.7146 - accuracy: 0.5250 - val_loss: 0.6954 - val_accuracy: 0.5000\n",
      "Epoch 4/25\n",
      "5/5 [==============================] - 4s 805ms/step - loss: 0.7388 - accuracy: 0.5500 - val_loss: 0.6907 - val_accuracy: 0.5000\n",
      "Epoch 5/25\n",
      "5/5 [==============================] - 4s 797ms/step - loss: 0.7037 - accuracy: 0.6000 - val_loss: 0.6866 - val_accuracy: 0.5000\n",
      "Epoch 6/25\n",
      "5/5 [==============================] - 4s 796ms/step - loss: 0.6632 - accuracy: 0.6500 - val_loss: 0.6837 - val_accuracy: 0.5000\n",
      "Epoch 7/25\n",
      "5/5 [==============================] - 4s 802ms/step - loss: 0.6769 - accuracy: 0.5750 - val_loss: 0.6811 - val_accuracy: 0.6000\n",
      "Epoch 8/25\n",
      "5/5 [==============================] - 4s 807ms/step - loss: 0.6363 - accuracy: 0.6250 - val_loss: 0.6793 - val_accuracy: 0.6000\n",
      "Epoch 9/25\n",
      "5/5 [==============================] - 4s 796ms/step - loss: 0.7007 - accuracy: 0.5750 - val_loss: 0.6772 - val_accuracy: 0.8000\n",
      "Epoch 10/25\n",
      "5/5 [==============================] - 4s 803ms/step - loss: 0.6861 - accuracy: 0.5500 - val_loss: 0.6752 - val_accuracy: 0.8000\n",
      "Epoch 11/25\n",
      "5/5 [==============================] - 4s 797ms/step - loss: 0.7268 - accuracy: 0.5000 - val_loss: 0.6735 - val_accuracy: 0.8000\n",
      "Epoch 12/25\n",
      "5/5 [==============================] - 4s 803ms/step - loss: 0.6704 - accuracy: 0.5750 - val_loss: 0.6721 - val_accuracy: 0.7000\n",
      "Epoch 13/25\n",
      "5/5 [==============================] - 4s 807ms/step - loss: 0.7273 - accuracy: 0.4500 - val_loss: 0.6708 - val_accuracy: 0.7000\n",
      "Epoch 14/25\n",
      "5/5 [==============================] - 4s 798ms/step - loss: 0.6919 - accuracy: 0.6250 - val_loss: 0.6697 - val_accuracy: 0.7000\n",
      "Epoch 15/25\n",
      "5/5 [==============================] - 4s 803ms/step - loss: 0.6461 - accuracy: 0.6000 - val_loss: 0.6684 - val_accuracy: 0.7000\n",
      "Epoch 16/25\n",
      "5/5 [==============================] - 4s 803ms/step - loss: 0.6934 - accuracy: 0.5750 - val_loss: 0.6671 - val_accuracy: 0.7000\n",
      "Epoch 17/25\n",
      "5/5 [==============================] - 4s 793ms/step - loss: 0.6993 - accuracy: 0.5000 - val_loss: 0.6660 - val_accuracy: 0.7000\n",
      "Epoch 18/25\n",
      "5/5 [==============================] - 4s 810ms/step - loss: 0.6310 - accuracy: 0.7000 - val_loss: 0.6649 - val_accuracy: 0.7000\n",
      "Epoch 19/25\n",
      "5/5 [==============================] - 4s 796ms/step - loss: 0.7159 - accuracy: 0.4500 - val_loss: 0.6637 - val_accuracy: 0.7000\n",
      "Epoch 20/25\n",
      "5/5 [==============================] - 4s 793ms/step - loss: 0.6675 - accuracy: 0.5750 - val_loss: 0.6627 - val_accuracy: 0.7000\n",
      "Epoch 21/25\n",
      "5/5 [==============================] - 4s 799ms/step - loss: 0.6774 - accuracy: 0.6000 - val_loss: 0.6616 - val_accuracy: 0.7000\n",
      "Epoch 22/25\n",
      "5/5 [==============================] - 4s 793ms/step - loss: 0.6293 - accuracy: 0.6750 - val_loss: 0.6607 - val_accuracy: 0.7000\n",
      "Epoch 23/25\n",
      "5/5 [==============================] - 4s 788ms/step - loss: 0.6859 - accuracy: 0.6500 - val_loss: 0.6596 - val_accuracy: 0.7000\n",
      "Epoch 24/25\n",
      "5/5 [==============================] - 4s 795ms/step - loss: 0.6681 - accuracy: 0.6250 - val_loss: 0.6590 - val_accuracy: 0.7000\n",
      "Epoch 25/25\n",
      "5/5 [==============================] - 4s 801ms/step - loss: 0.6781 - accuracy: 0.6250 - val_loss: 0.6583 - val_accuracy: 0.7000\n"
     ]
    }
   ],
   "source": [
    "# Training our whole model (where except head all other layers are frozen)\n",
    "# compiling the model\n",
    "model.compile(loss=\"binary_crossentropy\", optimizer=Adam(lr=lr, decay=lr/epochs), metrics=[\"accuracy\"])\n",
    "\n",
    "history = model.fit_generator(\n",
    "            train_aug.flow(train_X, train_Y, batch_size = batch_size),\n",
    "            steps_per_epoch = len(train_X)//batch_size,\n",
    "            validation_data = (test_X, test_Y),\n",
    "            validation_steps = len(test_X)//batch_size,\n",
    "            epochs = epochs)"
   ]
  },
  {
   "cell_type": "code",
   "execution_count": 10,
   "metadata": {},
   "outputs": [
    {
     "name": "stdout",
     "output_type": "stream",
     "text": [
      "              precision    recall  f1-score   support\n",
      "\n",
      "       covid       0.67      0.80      0.73         5\n",
      "      normal       0.75      0.60      0.67         5\n",
      "\n",
      "    accuracy                           0.70        10\n",
      "   macro avg       0.71      0.70      0.70        10\n",
      "weighted avg       0.71      0.70      0.70        10\n",
      "\n"
     ]
    }
   ],
   "source": [
    "# Predicting the test images\n",
    "pred = model.predict(test_X, batch_size=batch_size)\n",
    "\n",
    "# Checking which label has the highest predicted probability \n",
    "pred = np.argmax(pred, axis=1)\n",
    "\n",
    "print(classification_report(test_Y.argmax(axis=1), pred, target_names = lb.classes_))"
   ]
  },
  {
   "cell_type": "code",
   "execution_count": 11,
   "metadata": {},
   "outputs": [
    {
     "name": "stdout",
     "output_type": "stream",
     "text": [
      "[[4 1]\n",
      " [2 3]]\n",
      "acc: 0.7000\n",
      "sensitivity: 0.8000\n",
      "specificity: 0.6000\n"
     ]
    }
   ],
   "source": [
    "# Confusion Matrix, Accuracy, Sensitivity, and Specificity\n",
    "cm = confusion_matrix(test_Y.argmax(axis=1), pred)\n",
    "total = sum(sum(cm))\n",
    "acc = (cm[0, 0] + cm[1, 1]) / total\n",
    "sensitivity = cm[0, 0] / (cm[0, 0] + cm[0, 1])\n",
    "specificity = cm[1, 1] / (cm[1, 0] + cm[1, 1])\n",
    "# show the confusion matrix, accuracy, sensitivity, and specificity\n",
    "print(cm)\n",
    "print(\"acc: {:.4f}\".format(acc))\n",
    "print(\"sensitivity: {:.4f}\".format(sensitivity))\n",
    "print(\"specificity: {:.4f}\".format(specificity))"
   ]
  },
  {
   "cell_type": "code",
   "execution_count": 12,
   "metadata": {},
   "outputs": [
    {
     "data": {
      "image/png": "[encoded data removed]",
      "text/plain": [
       "<Figure size 432x288 with 1 Axes>"
      ]
     },
     "metadata": {},
     "output_type": "display_data"
    }
   ],
   "source": [
    "# Plotting training and validation loss and accuracy\n",
    "N = epochs\n",
    "plt.style.use(\"ggplot\")\n",
    "plt.figure()\n",
    "plt.plot(np.arange(0, N), history.history[\"loss\"], label=\"train_loss\")\n",
    "plt.plot(np.arange(0, N), history.history[\"val_loss\"], label=\"val_loss\")\n",
    "plt.plot(np.arange(0, N), history.history[\"accuracy\"], label=\"train_acc\")\n",
    "plt.plot(np.arange(0, N), history.history[\"val_accuracy\"], label=\"val_acc\")\n",
    "plt.title(\"Training Loss and Accuracy on COVID-19 Dataset\")\n",
    "plt.xlabel(\"Epoch #\")\n",
    "plt.ylabel(\"Loss/Accuracy\")\n",
    "plt.legend(loc=\"lower left\")\n",
    "plt.savefig(\"evaluation_plot.jpeg\")"
   ]
  },
  {
   "cell_type": "code",
   "execution_count": 13,
   "metadata": {},
   "outputs": [],
   "source": [
    "model.save(\"covid-19\", save_format=\"h5\")"
   ]
  },
  {
   "cell_type": "code",
   "execution_count": null,
   "metadata": {},
   "outputs": [],
   "source": []
  }
 ],
 "metadata": {
  "kernelspec": {
   "display_name": "Python 3",
   "language": "python",
   "name": "python3"
  },
  "language_info": {
   "codemirror_mode": {
    "name": "ipython",
    "version": 3
   },
   "file_extension": ".py",
   "mimetype": "text/x-python",
   "name": "python",
   "nbconvert_exporter": "python",
   "pygments_lexer": "ipython3",
   "version": "3.8.5"
  }
 },
 "nbformat": 4,
 "nbformat_minor": 4
}
