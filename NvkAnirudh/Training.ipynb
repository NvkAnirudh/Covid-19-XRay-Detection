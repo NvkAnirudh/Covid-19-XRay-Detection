{
 "cells": [
  {
   "cell_type": "code",
   "execution_count": 21,
   "metadata": {},
   "outputs": [],
   "source": [
    "import tensorflow as tf\n",
    "import cv2\n",
    "import matplotlib.pyplot as plt\n",
    "import sklearn\n",
    "import numpy as np\n",
    "from imutils import paths\n",
    "import os\n",
    "from tensorflow.keras.preprocessing.image import ImageDataGenerator\n",
    "from tensorflow.keras.utils import to_categorical\n",
    "from tensorflow.keras.applications import VGG16\n",
    "from tensorflow.keras.layers import AveragePooling2D\n",
    "from tensorflow.keras.layers import Dropout\n",
    "from tensorflow.keras.layers import Flatten\n",
    "from tensorflow.keras.layers import Dense\n",
    "from tensorflow.keras.models import Model\n",
    "from tensorflow.keras.optimizers import Adam\n",
    "from tensorflow.keras.layers import Input\n",
    "from sklearn.preprocessing import LabelBinarizer\n",
    "from sklearn.metrics import classification_report\n",
    "from sklearn.model_selection import train_test_split\n",
    "from sklearn.metrics import confusion_matrix\n",
    "from sklearn.metrics import precision_score\n",
    "from sklearn.metrics import recall_score\n",
    "import scipy"
   ]
  },
  {
   "cell_type": "code",
   "execution_count": 3,
   "metadata": {},
   "outputs": [
    {
     "name": "stdout",
     "output_type": "stream",
     "text": [
      "2.2.0\n"
     ]
    }
   ],
   "source": [
    "print(tf.__version__)\n",
    "init_lr = 0.001\n",
    "epochs = 25\n",
    "batch_size = 8"
   ]
  },
  {
   "cell_type": "code",
   "execution_count": 4,
   "metadata": {},
   "outputs": [
    {
     "name": "stdout",
     "output_type": "stream",
     "text": [
      "Loading Images...\n"
     ]
    }
   ],
   "source": [
    "print('Loading Images...')\n",
    "imagePaths = list(paths.list_images(\"/home/nvkanirudh/keras_XRay_Covid/NvkAnirudh/dataset\"))\n",
    "data = []\n",
    "labels = []"
   ]
  },
  {
   "cell_type": "code",
   "execution_count": 5,
   "metadata": {},
   "outputs": [],
   "source": [
    "for imagePath in imagePaths:\n",
    "    label = imagePath.split(\"/\")[-2]\n",
    "    \n",
    "    image = cv2.imread(imagePath)\n",
    "    image = cv2.cvtColor(image, cv2.COLOR_BGR2RGB)\n",
    "    image = cv2.resize(image, (224,224))    \n",
    "    \n",
    "    data.append(image)\n",
    "    labels.append(label)\n",
    "\n",
    "data = np.array(data) / 255.0\n",
    "labels = np.array(labels)"
   ]
  },
  {
   "cell_type": "code",
   "execution_count": 6,
   "metadata": {
    "scrolled": true
   },
   "outputs": [],
   "source": [
    "lb = LabelBinarizer()\n",
    "labels = lb.fit_transform(labels)\n",
    "labels = to_categorical(labels)"
   ]
  },
  {
   "cell_type": "code",
   "execution_count": 7,
   "metadata": {},
   "outputs": [],
   "source": [
    "train_X, test_X, train_y, test_y = train_test_split(data, labels, test_size=0.20, stratify=labels, random_state=42)\n",
    "\n",
    "trainAug = ImageDataGenerator(rotation_range=15, fill_mode=\"nearest\")"
   ]
  },
  {
   "cell_type": "code",
   "execution_count": 8,
   "metadata": {},
   "outputs": [],
   "source": [
    "baseModel = VGG16(weights=\"imagenet\", include_top=False, input_tensor=Input(shape=(224,224,3)))\n",
    "\n",
    "headModel = baseModel.output\n",
    "headModel = AveragePooling2D(pool_size=(4, 4))(headModel)\n",
    "headModel = Flatten(name=\"flatten\")(headModel)\n",
    "headModel = Dense(64, activation=\"relu\")(headModel)\n",
    "headModel = Dropout(0.5)(headModel)\n",
    "headModel = Dense(2, activation=\"softmax\")(headModel)\n",
    "\n",
    "model = Model(inputs=baseModel.input, outputs=headModel)\n",
    "\n",
    "for layer in baseModel.layers:\n",
    "    layer.trainable=False"
   ]
  },
  {
   "cell_type": "code",
   "execution_count": 9,
   "metadata": {},
   "outputs": [
    {
     "name": "stdout",
     "output_type": "stream",
     "text": [
      "Compiling model...\n",
      "Training head...\n",
      "Epoch 1/25\n",
      "5/5 [==============================] - 8s 2s/step - loss: 0.8091 - accuracy: 0.5000 - val_loss: 0.6739 - val_accuracy: 0.5000\n",
      "Epoch 2/25\n",
      "5/5 [==============================] - 7s 1s/step - loss: 0.7328 - accuracy: 0.5000 - val_loss: 0.6414 - val_accuracy: 0.5000\n",
      "Epoch 3/25\n",
      "5/5 [==============================] - 7s 1s/step - loss: 0.7577 - accuracy: 0.4750 - val_loss: 0.6425 - val_accuracy: 0.5000\n",
      "Epoch 4/25\n",
      "5/5 [==============================] - 6s 1s/step - loss: 0.5797 - accuracy: 0.7000 - val_loss: 0.6099 - val_accuracy: 0.7000\n",
      "Epoch 5/25\n",
      "5/5 [==============================] - 6s 1s/step - loss: 0.6254 - accuracy: 0.6000 - val_loss: 0.5976 - val_accuracy: 0.7000\n",
      "Epoch 6/25\n",
      "5/5 [==============================] - 6s 1s/step - loss: 0.7494 - accuracy: 0.5750 - val_loss: 0.5946 - val_accuracy: 0.5000\n",
      "Epoch 7/25\n",
      "5/5 [==============================] - 7s 1s/step - loss: 0.6745 - accuracy: 0.6000 - val_loss: 0.5625 - val_accuracy: 0.8000\n",
      "Epoch 8/25\n",
      "5/5 [==============================] - 7s 1s/step - loss: 0.7722 - accuracy: 0.4500 - val_loss: 0.5489 - val_accuracy: 1.0000\n",
      "Epoch 9/25\n",
      "5/5 [==============================] - 6s 1s/step - loss: 0.6593 - accuracy: 0.5750 - val_loss: 0.5343 - val_accuracy: 1.0000\n",
      "Epoch 10/25\n",
      "5/5 [==============================] - 6s 1s/step - loss: 0.5860 - accuracy: 0.6750 - val_loss: 0.5236 - val_accuracy: 1.0000\n",
      "Epoch 11/25\n",
      "5/5 [==============================] - 6s 1s/step - loss: 0.5743 - accuracy: 0.7000 - val_loss: 0.5125 - val_accuracy: 1.0000\n",
      "Epoch 12/25\n",
      "5/5 [==============================] - 6s 1s/step - loss: 0.5481 - accuracy: 0.7500 - val_loss: 0.5036 - val_accuracy: 0.8000\n",
      "Epoch 13/25\n",
      "5/5 [==============================] - 6s 1s/step - loss: 0.5161 - accuracy: 0.9000 - val_loss: 0.4861 - val_accuracy: 0.8000\n",
      "Epoch 14/25\n",
      "5/5 [==============================] - 6s 1s/step - loss: 0.5701 - accuracy: 0.7250 - val_loss: 0.4729 - val_accuracy: 1.0000\n",
      "Epoch 15/25\n",
      "5/5 [==============================] - 6s 1s/step - loss: 0.4735 - accuracy: 0.9250 - val_loss: 0.4643 - val_accuracy: 0.8000\n",
      "Epoch 16/25\n",
      "5/5 [==============================] - 6s 1s/step - loss: 0.4450 - accuracy: 0.9500 - val_loss: 0.4459 - val_accuracy: 0.9000\n",
      "Epoch 17/25\n",
      "5/5 [==============================] - 6s 1s/step - loss: 0.4825 - accuracy: 0.8000 - val_loss: 0.4297 - val_accuracy: 1.0000\n",
      "Epoch 18/25\n",
      "5/5 [==============================] - 6s 1s/step - loss: 0.4627 - accuracy: 0.8750 - val_loss: 0.4130 - val_accuracy: 1.0000\n",
      "Epoch 19/25\n",
      "5/5 [==============================] - 6s 1s/step - loss: 0.4426 - accuracy: 0.8750 - val_loss: 0.3982 - val_accuracy: 1.0000\n",
      "Epoch 20/25\n",
      "5/5 [==============================] - 6s 1s/step - loss: 0.4209 - accuracy: 0.9000 - val_loss: 0.3881 - val_accuracy: 0.9000\n",
      "Epoch 21/25\n",
      "5/5 [==============================] - 6s 1s/step - loss: 0.4112 - accuracy: 0.8250 - val_loss: 0.3746 - val_accuracy: 1.0000\n",
      "Epoch 22/25\n",
      "5/5 [==============================] - 6s 1s/step - loss: 0.3635 - accuracy: 0.9250 - val_loss: 0.3616 - val_accuracy: 1.0000\n",
      "Epoch 23/25\n",
      "5/5 [==============================] - 6s 1s/step - loss: 0.4344 - accuracy: 0.8750 - val_loss: 0.3479 - val_accuracy: 1.0000\n",
      "Epoch 24/25\n",
      "5/5 [==============================] - 6s 1s/step - loss: 0.3920 - accuracy: 0.8500 - val_loss: 0.3416 - val_accuracy: 0.9000\n",
      "Epoch 25/25\n",
      "5/5 [==============================] - 6s 1s/step - loss: 0.3737 - accuracy: 0.8750 - val_loss: 0.3375 - val_accuracy: 0.9000\n"
     ]
    }
   ],
   "source": [
    "import scipy\n",
    "print(\"Compiling model...\")\n",
    "opt = Adam(lr=init_lr, decay=init_lr/epochs)\n",
    "model.compile(loss=\"binary_crossentropy\", optimizer=opt, metrics=[\"accuracy\"])\n",
    "\n",
    "print(\"Training head...\")\n",
    "train = model.fit(x=trainAug.flow(train_X, train_y, batch_size=batch_size),\n",
    "                 steps_per_epoch=len(train_X)//batch_size,\n",
    "                 validation_data = (test_X, test_y),\n",
    "                 epochs=epochs)"
   ]
  },
  {
   "cell_type": "code",
   "execution_count": 11,
   "metadata": {},
   "outputs": [
    {
     "name": "stdout",
     "output_type": "stream",
     "text": [
      "Evaluating model...\n",
      "[[0.3102216  0.68977845]\n",
      " [0.22161889 0.7783811 ]\n",
      " [0.5182898  0.48171017]\n",
      " [0.19836639 0.80163366]\n",
      " [0.7490196  0.2509804 ]\n",
      " [0.88923156 0.11076839]\n",
      " [0.7160252  0.28397483]\n",
      " [0.8422935  0.1577065 ]\n",
      " [0.4887918  0.51120824]\n",
      " [0.80364305 0.19635692]]\n",
      "[1 1 0 1 0 0 0 0 1 0]\n"
     ]
    }
   ],
   "source": [
    "print(\"Evaluating model...\")\n",
    "predIndices = model.predict(test_X, batch_size=batch_size)\n",
    "print(predIndices)\n",
    "predIndices = np.argmax(predIndices, axis=1)\n",
    "print(predIndices)"
   ]
  },
  {
   "cell_type": "code",
   "execution_count": 18,
   "metadata": {},
   "outputs": [
    {
     "name": "stdout",
     "output_type": "stream",
     "text": [
      "              precision    recall  f1-score   support\n",
      "\n",
      "       covid       0.83      1.00      0.91         5\n",
      "      normal       1.00      0.80      0.89         5\n",
      "\n",
      "    accuracy                           0.90        10\n",
      "   macro avg       0.92      0.90      0.90        10\n",
      "weighted avg       0.92      0.90      0.90        10\n",
      "\n",
      "[[0. 1.]\n",
      " [0. 1.]\n",
      " [0. 1.]\n",
      " [0. 1.]\n",
      " [1. 0.]\n",
      " [1. 0.]\n",
      " [1. 0.]\n",
      " [1. 0.]\n",
      " [0. 1.]\n",
      " [1. 0.]]\n"
     ]
    }
   ],
   "source": [
    "print(classification_report(test_y.argmax(axis=1), predIndices, target_names=lb.classes_))"
   ]
  },
  {
   "cell_type": "code",
   "execution_count": 25,
   "metadata": {},
   "outputs": [
    {
     "name": "stdout",
     "output_type": "stream",
     "text": [
      "[[5 0]\n",
      " [1 4]]\n",
      "Precision:  1.0\n",
      "Recall:  0.8\n"
     ]
    }
   ],
   "source": [
    "print(confusion_matrix(test_y.argmax(axis=1), predIndices))\n",
    "print(\"Precision: \",precision_score(test_y.argmax(axis=1), predIndices))\n",
    "print(\"Recall: \",recall_score(test_y.argmax(axis=1), predIndices))\n",
    "\n"
   ]
  },
  {
   "cell_type": "code",
   "execution_count": 31,
   "metadata": {},
   "outputs": [
    {
     "data": {
      "image/png": "[encoded data removed]",
      "text/plain": [
       "<Figure size 432x288 with 1 Axes>"
      ]
     },
     "metadata": {},
     "output_type": "display_data"
    }
   ],
   "source": [
    "N = epochs\n",
    "plt.style.use(\"ggplot\")\n",
    "plt.figure()\n",
    "plt.plot(np.arange(0, N), train.history[\"loss\"], label=\"train_loss\")\n",
    "plt.plot(np.arange(0, N), train.history[\"val_loss\"], label=\"val_loss\")\n",
    "plt.plot(np.arange(0, N), train.history[\"accuracy\"], label=\"train_acc\")\n",
    "plt.plot(np.arange(0, N), train.history[\"val_accuracy\"], label=\"val_acc\")\n",
    "plt.title(\"Training Loss and Accuracy on COVID-19 Dataset\")\n",
    "plt.xlabel(\"Epoch #\")\n",
    "plt.ylabel(\"Loss/Accuracy\")\n",
    "plt.legend(loc=\"lower left\")\n",
    "plt.savefig(\"/home/nvkanirudh/keras_XRay_Covid/NvkAnirudh/plot\")"
   ]
  },
  {
   "cell_type": "code",
   "execution_count": 32,
   "metadata": {},
   "outputs": [
    {
     "name": "stdout",
     "output_type": "stream",
     "text": [
      "[INFO] saving COVID-19 detector model...\n"
     ]
    }
   ],
   "source": [
    "print(\"[INFO] saving COVID-19 detector model...\")\n",
    "model.save(\"/home/nvkanirudh/keras_XRay_Covid/NvkAnirudh/model\", save_format=\"h5\")"
   ]
  },
  {
   "cell_type": "code",
   "execution_count": null,
   "metadata": {},
   "outputs": [],
   "source": []
  }
 ],
 "metadata": {
  "kernelspec": {
   "display_name": "Python 3",
   "language": "python",
   "name": "python3"
  },
  "language_info": {
   "codemirror_mode": {
    "name": "ipython",
    "version": 3
   },
   "file_extension": ".py",
   "mimetype": "text/x-python",
   "name": "python",
   "nbconvert_exporter": "python",
   "pygments_lexer": "ipython3",
   "version": "3.7.9"
  }
 },
 "nbformat": 4,
 "nbformat_minor": 4
}
